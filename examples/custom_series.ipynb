{
 "cells": [
  {
   "cell_type": "markdown",
   "metadata": {
    "toc": true
   },
   "source": [
    "<h1>Table of Contents<span class=\"tocSkip\"></span></h1>\n",
    "<div class=\"toc\"><ul class=\"toc-item\"></ul></div>"
   ]
  },
  {
   "cell_type": "code",
   "execution_count": 20,
   "metadata": {
    "ExecuteTime": {
     "end_time": "2019-03-04T13:43:34.331141Z",
     "start_time": "2019-03-04T13:43:34.259273Z"
    }
   },
   "outputs": [],
   "source": [
    "from time import sleep\n",
    "import numpy as np\n",
    "\n",
    "from livelossplot import PlotLosses"
   ]
  },
  {
   "cell_type": "code",
   "execution_count": null,
   "metadata": {
    "ExecuteTime": {
     "end_time": "2019-03-04T13:41:28.099549Z",
     "start_time": "2019-03-04T13:41:14.833007Z"
    }
   },
   "outputs": [],
   "source": [
    "liveplot = PlotLosses(series_fmt={'training': '{}', 'validation':'val_{}', 'validation class 1': 'val_class1_{}', 'validation class 2': 'val_class2_{}'},\n",
    "                     mark_high_score={'val_accuracy': 'higher', 'val_mse': 'lower'})\n",
    "\n",
    "for i in range(10):\n",
    "    liveplot.update({\n",
    "        'mse': 1. + np.random.rand() / (i + 2.),\n",
    "        'val_mse': 1. + np.random.rand() / (i + 0.5),\n",
    "        'accuracy': 1 - np.random.rand() / (i + 2.),\n",
    "        'val_accuracy': 1 - np.random.rand() / (i + 0.5),\n",
    "        'val_class1_accuracy': 1 - np.random.rand() / (i + 0.5),\n",
    "        'val_class2_accuracy': 1 - np.random.rand() / (i + 0.5),\n",
    "    })\n",
    "    liveplot.draw()\n",
    "    sleep(1.)"
   ]
  },
  {
   "cell_type": "code",
   "execution_count": null,
   "metadata": {},
   "outputs": [],
   "source": []
  }
 ],
 "metadata": {
  "anaconda-cloud": {},
  "kernelspec": {
   "display_name": "Python 3",
   "language": "python",
   "name": "python3"
  },
  "language_info": {
   "codemirror_mode": {
    "name": "ipython",
    "version": 3
   },
   "file_extension": ".py",
   "mimetype": "text/x-python",
   "name": "python",
   "nbconvert_exporter": "python",
   "pygments_lexer": "ipython3",
   "version": "3.6.7"
  },
  "toc": {
   "base_numbering": 1,
   "nav_menu": {},
   "number_sections": true,
   "sideBar": true,
   "skip_h1_title": false,
   "title_cell": "Table of Contents",
   "title_sidebar": "Contents",
   "toc_cell": true,
   "toc_position": {},
   "toc_section_display": true,
   "toc_window_display": false
  }
 },
 "nbformat": 4,
 "nbformat_minor": 1
}
